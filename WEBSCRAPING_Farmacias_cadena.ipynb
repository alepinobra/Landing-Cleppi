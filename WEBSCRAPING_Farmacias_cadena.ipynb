{
  "nbformat": 4,
  "nbformat_minor": 0,
  "metadata": {
    "colab": {
      "provenance": [],
      "include_colab_link": true
    },
    "kernelspec": {
      "name": "python3",
      "display_name": "Python 3"
    },
    "language_info": {
      "name": "python"
    }
  },
  "cells": [
    {
      "cell_type": "markdown",
      "metadata": {
        "id": "view-in-github",
        "colab_type": "text"
      },
      "source": [
        "<a href=\"https://colab.research.google.com/github/alepinobra/Landing-Cleppi/blob/main/WEBSCRAPING_Farmacias_cadena.ipynb\" target=\"_parent\"><img src=\"https://colab.research.google.com/assets/colab-badge.svg\" alt=\"Open In Colab\"/></a>"
      ]
    },
    {
      "cell_type": "code",
      "source": [
        "#google\n",
        "from google.colab import drive\n",
        "drive.mount('/content/gdrive', force_remount=True)"
      ],
      "metadata": {
        "colab": {
          "base_uri": "https://localhost:8080/"
        },
        "id": "8eYJy3uA0_h9",
        "outputId": "b5c18417-0c6d-4600-c9c0-a544c19e2b7f"
      },
      "execution_count": 40,
      "outputs": [
        {
          "output_type": "stream",
          "name": "stdout",
          "text": [
            "Mounted at /content/gdrive\n"
          ]
        }
      ]
    },
    {
      "cell_type": "code",
      "source": [
        "path = \"gdrive/MyDrive/Emprendimiento/webscraping_cadenas/Farmacias_ahumada\""
      ],
      "metadata": {
        "id": "NyEZD9N_1GGu"
      },
      "execution_count": 41,
      "outputs": []
    },
    {
      "cell_type": "code",
      "source": [
        "from bs4 import BeautifulSoup\n",
        "import requests\n",
        "from lxml import etree\n",
        "import pandas as pd"
      ],
      "metadata": {
        "id": "SCJi5R38wdyK"
      },
      "execution_count": 42,
      "outputs": []
    },
    {
      "cell_type": "code",
      "source": [
        "r = requests.get('https://www.farmaciasahumada.cl/medicamentos.html')"
      ],
      "metadata": {
        "id": "WJv3kRK21Bkh"
      },
      "execution_count": 43,
      "outputs": []
    },
    {
      "cell_type": "code",
      "source": [
        "r.status_code"
      ],
      "metadata": {
        "colab": {
          "base_uri": "https://localhost:8080/"
        },
        "id": "cq1cs-aq6iNo",
        "outputId": "d9d49445-95d9-4e8f-8ff2-76ab2caf6a42"
      },
      "execution_count": 44,
      "outputs": [
        {
          "output_type": "execute_result",
          "data": {
            "text/plain": [
              "200"
            ]
          },
          "metadata": {},
          "execution_count": 44
        }
      ]
    },
    {
      "cell_type": "code",
      "source": [
        "soup = BeautifulSoup(r.content, 'html.parser')"
      ],
      "metadata": {
        "id": "IfdZgFTJ6hiZ"
      },
      "execution_count": 45,
      "outputs": []
    },
    {
      "cell_type": "code",
      "source": [
        "titulos = soup.find_all(\"a\", {\"class\": \"product-item-link\"})\n"
      ],
      "metadata": {
        "id": "SfkwkHpm61cA"
      },
      "execution_count": 46,
      "outputs": []
    },
    {
      "cell_type": "code",
      "source": [
        "titulos = [i.text for i in titulos]"
      ],
      "metadata": {
        "id": "oYzD-z3L7TOG"
      },
      "execution_count": 47,
      "outputs": []
    },
    {
      "cell_type": "code",
      "source": [
        "titulos = [elemento.strip() for elemento in titulos]"
      ],
      "metadata": {
        "id": "be3NA_h9_H-i"
      },
      "execution_count": 48,
      "outputs": []
    },
    {
      "cell_type": "code",
      "source": [
        "titulos=titulos[:-1]\n",
        "titulos"
      ],
      "metadata": {
        "colab": {
          "base_uri": "https://localhost:8080/"
        },
        "id": "4lmxIYjgHX6G",
        "outputId": "4117a9bf-d3c9-4043-ef1e-89f2a78b4c7c"
      },
      "execution_count": 49,
      "outputs": [
        {
          "output_type": "execute_result",
          "data": {
            "text/plain": [
              "['Disfruta Plv.Ef.Sob.5gr.Ment-Limon 1un',\n",
              " 'Eno Plv. Ef. Naranja Sobre 5g',\n",
              " 'Sal de Fruta Eno Limon x 5 g Polvo Efervescente',\n",
              " 'Sal de Fruta Eno x 5 g Polvo Efervescente',\n",
              " 'Disfruta Sal Efervescente 5 g x 1 Sobre',\n",
              " 'Disfruta Sal Efervescente Limon 5 g x 1 Sobre',\n",
              " 'Tapsin Compuesto Noche 5 g x 1 Sobre Polvo Para Solución Oral',\n",
              " 'Diclofenaco Sodico 50 mg x 10 Comprimidos Con Recubrimiento Enterico',\n",
              " 'Tapsin Compuesto Dia 5 g x 1 Sobre Polvo Para Solución Oral',\n",
              " 'Atenolol 50 mg x 20 Comprimidos',\n",
              " 'Piroxicam 20 mg x 10 Comprimidos',\n",
              " 'Loperamida Clorhidrato 2 mg x 6 Comprimidos']"
            ]
          },
          "metadata": {},
          "execution_count": 49
        }
      ]
    },
    {
      "cell_type": "code",
      "source": [
        "print(len(titulos))"
      ],
      "metadata": {
        "colab": {
          "base_uri": "https://localhost:8080/"
        },
        "id": "Uyzbuzng2JrG",
        "outputId": "6c9b54b2-92c4-4818-8eec-17848c285aed"
      },
      "execution_count": 50,
      "outputs": [
        {
          "output_type": "stream",
          "name": "stdout",
          "text": [
            "12\n"
          ]
        }
      ]
    },
    {
      "cell_type": "code",
      "source": [
        "urls = soup.find_all(\"a\", {\"class\": \"product-item-link\"})"
      ],
      "metadata": {
        "id": "Aghnc9YN_Uph"
      },
      "execution_count": 51,
      "outputs": []
    },
    {
      "cell_type": "code",
      "source": [
        "urls = [i.get(\"href\") for i in urls]"
      ],
      "metadata": {
        "id": "oYtG1wq7_0OS"
      },
      "execution_count": 52,
      "outputs": []
    },
    {
      "cell_type": "code",
      "source": [
        "urls"
      ],
      "metadata": {
        "colab": {
          "base_uri": "https://localhost:8080/"
        },
        "id": "2ZMKKoWa_2ER",
        "outputId": "64eeb904-d8a2-4b80-c99d-a0877433d374"
      },
      "execution_count": 53,
      "outputs": [
        {
          "output_type": "execute_result",
          "data": {
            "text/plain": [
              "['https://www.farmaciasahumada.cl/disfruta-plv-ef-sob-5gr-ment-limon-1un.html',\n",
              " 'https://www.farmaciasahumada.cl/eno-plv-ef-naranja-sobre-5g.html',\n",
              " 'https://www.farmaciasahumada.cl/sal-de-fruta-eno-limon-x-5-g-polvo-efervescente.html',\n",
              " 'https://www.farmaciasahumada.cl/sal-de-fruta-eno-x-5-g-polvo-efervescente.html',\n",
              " 'https://www.farmaciasahumada.cl/disfruta-sal-efervescente-5-g-x-1-sobre.html',\n",
              " 'https://www.farmaciasahumada.cl/disfruta-sal-efervescente-limon-5-g-x-1-sobre.html',\n",
              " 'https://www.farmaciasahumada.cl/tapsin-compuesto-noche-5-g-x-1-sobre-polvo-para-solucion-oral.html',\n",
              " 'https://www.farmaciasahumada.cl/diclofenaco-sodico-50-mg-x-10-comprimidos-recubiertos-entericos.html',\n",
              " 'https://www.farmaciasahumada.cl/tapsin-compuesto-dia-5-g-x-1-sobre-polvo-para-solucion-oral.html',\n",
              " 'https://www.farmaciasahumada.cl/atenolol-50-mg-x-20-comprimidos.html',\n",
              " 'https://www.farmaciasahumada.cl/piroxicam-20-mg-x-10-comprimidos.html',\n",
              " 'https://www.farmaciasahumada.cl/loperamida-clorhidrato-2-mg-x-6-comprimidos.html',\n",
              " None]"
            ]
          },
          "metadata": {},
          "execution_count": 53
        }
      ]
    },
    {
      "cell_type": "code",
      "source": [
        "urls = urls[:-1]"
      ],
      "metadata": {
        "id": "3Lcz-Wb3HFki"
      },
      "execution_count": 54,
      "outputs": []
    },
    {
      "cell_type": "code",
      "source": [
        "urls"
      ],
      "metadata": {
        "colab": {
          "base_uri": "https://localhost:8080/"
        },
        "id": "4bwPUNDbHQBa",
        "outputId": "352ce090-cf58-47c5-b956-34af785d5762"
      },
      "execution_count": 55,
      "outputs": [
        {
          "output_type": "execute_result",
          "data": {
            "text/plain": [
              "['https://www.farmaciasahumada.cl/disfruta-plv-ef-sob-5gr-ment-limon-1un.html',\n",
              " 'https://www.farmaciasahumada.cl/eno-plv-ef-naranja-sobre-5g.html',\n",
              " 'https://www.farmaciasahumada.cl/sal-de-fruta-eno-limon-x-5-g-polvo-efervescente.html',\n",
              " 'https://www.farmaciasahumada.cl/sal-de-fruta-eno-x-5-g-polvo-efervescente.html',\n",
              " 'https://www.farmaciasahumada.cl/disfruta-sal-efervescente-5-g-x-1-sobre.html',\n",
              " 'https://www.farmaciasahumada.cl/disfruta-sal-efervescente-limon-5-g-x-1-sobre.html',\n",
              " 'https://www.farmaciasahumada.cl/tapsin-compuesto-noche-5-g-x-1-sobre-polvo-para-solucion-oral.html',\n",
              " 'https://www.farmaciasahumada.cl/diclofenaco-sodico-50-mg-x-10-comprimidos-recubiertos-entericos.html',\n",
              " 'https://www.farmaciasahumada.cl/tapsin-compuesto-dia-5-g-x-1-sobre-polvo-para-solucion-oral.html',\n",
              " 'https://www.farmaciasahumada.cl/atenolol-50-mg-x-20-comprimidos.html',\n",
              " 'https://www.farmaciasahumada.cl/piroxicam-20-mg-x-10-comprimidos.html',\n",
              " 'https://www.farmaciasahumada.cl/loperamida-clorhidrato-2-mg-x-6-comprimidos.html']"
            ]
          },
          "metadata": {},
          "execution_count": 55
        }
      ]
    },
    {
      "cell_type": "code",
      "source": [
        "dom = etree.HTML(str(soup))\n",
        "precios = dom.xpath('//li[@class=\"item product product-item\"]//div[@class=\"price-box price-final_price\"]//span[@class=\"price-container price-final_price tax weee\"]//span[@class=\"price\"]')"
      ],
      "metadata": {
        "id": "gYJfuiiRAKZ3"
      },
      "execution_count": 56,
      "outputs": []
    },
    {
      "cell_type": "code",
      "source": [
        "precios = [i.text for i in precios]"
      ],
      "metadata": {
        "id": "obwt98HHE17Y"
      },
      "execution_count": 57,
      "outputs": []
    },
    {
      "cell_type": "code",
      "source": [
        "precios"
      ],
      "metadata": {
        "colab": {
          "base_uri": "https://localhost:8080/"
        },
        "id": "raA-O37BFNFM",
        "outputId": "a69d4651-3010-49e9-bba6-9e2f221eb502"
      },
      "execution_count": 59,
      "outputs": [
        {
          "output_type": "execute_result",
          "data": {
            "text/plain": [
              "['$495',\n",
              " '$595',\n",
              " '$595',\n",
              " '$595',\n",
              " '$645',\n",
              " '$645',\n",
              " '$745',\n",
              " '$745',\n",
              " '$745',\n",
              " '$845',\n",
              " '$895',\n",
              " '$895']"
            ]
          },
          "metadata": {},
          "execution_count": 59
        }
      ]
    },
    {
      "cell_type": "code",
      "source": [
        "siguiente = dom.xpath('//div[@class=\"pages\"]/ul/li[@class=\"item pages-item-next\"]/a')[1].get('href')"
      ],
      "metadata": {
        "id": "vl6Ct0flIyWU"
      },
      "execution_count": 60,
      "outputs": []
    },
    {
      "cell_type": "code",
      "source": [
        "siguiente"
      ],
      "metadata": {
        "colab": {
          "base_uri": "https://localhost:8080/",
          "height": 36
        },
        "id": "dWMTSuk-Odg-",
        "outputId": "2af444aa-5e31-424c-fd5e-9a2f84bc1b2b"
      },
      "execution_count": 61,
      "outputs": [
        {
          "output_type": "execute_result",
          "data": {
            "text/plain": [
              "'https://www.farmaciasahumada.cl/medicamentos.html?p=2'"
            ],
            "application/vnd.google.colaboratory.intrinsic+json": {
              "type": "string"
            }
          },
          "metadata": {},
          "execution_count": 61
        }
      ]
    },
    {
      "cell_type": "code",
      "source": [
        "ini = dom.xpath('//ul[@class=\"items pages-items\"]//strong//span[2]')[1].text\n",
        "ini = int(ini)"
      ],
      "metadata": {
        "id": "3BYqPtEXOeoE"
      },
      "execution_count": 62,
      "outputs": []
    },
    {
      "cell_type": "code",
      "source": [
        "ini"
      ],
      "metadata": {
        "colab": {
          "base_uri": "https://localhost:8080/"
        },
        "id": "uKDhP-6EQeqn",
        "outputId": "e56e87cf-0771-43bd-8b54-456158638149"
      },
      "execution_count": 63,
      "outputs": [
        {
          "output_type": "execute_result",
          "data": {
            "text/plain": [
              "1"
            ]
          },
          "metadata": {},
          "execution_count": 63
        }
      ]
    },
    {
      "cell_type": "code",
      "source": [
        "lista_titulos = []\n",
        "lista_url = []\n",
        "lista_precios = []"
      ],
      "metadata": {
        "id": "TzJJ4Lpwcz-n"
      },
      "execution_count": 72,
      "outputs": []
    },
    {
      "cell_type": "code",
      "source": [
        "print(len(lista_titulos))\n",
        "print(len(lista_url))\n",
        "print(len(lista_precios))"
      ],
      "metadata": {
        "colab": {
          "base_uri": "https://localhost:8080/"
        },
        "id": "AmsQ3o024pY6",
        "outputId": "98a0842b-12b9-477d-fb11-a052800fc0fa"
      },
      "execution_count": 73,
      "outputs": [
        {
          "output_type": "stream",
          "name": "stdout",
          "text": [
            "0\n",
            "0\n",
            "0\n"
          ]
        }
      ]
    },
    {
      "cell_type": "code",
      "source": [
        "from requests.api import request\n",
        "\n",
        "siguiente = 'https://www.farmaciasahumada.cl/medicamentos.html'\n",
        "while True: \n",
        "  r = requests.get(siguiente)\n",
        "  if r.status_code == 200:\n",
        "    soup = BeautifulSoup(r.content, 'html.parser')\n",
        "    #titulos \n",
        "    titulos = soup.find_all(\"a\", {\"class\": \"product-item-link\"})\n",
        "    titulos = [i.text for i in titulos]\n",
        "    titulos = [elemento.strip() for elemento in titulos]\n",
        "    titulos=titulos[:-1]\n",
        "    lista_titulos.extend(titulos)\n",
        "    #url\n",
        "    urls = soup.find_all(\"a\", {\"class\": \"product-item-link\"})\n",
        "    urls = [i.get(\"href\") for i in urls]\n",
        "    urls = urls[:-1]\n",
        "    lista_url.extend(urls)\n",
        "    #precio\n",
        "    dom = etree.HTML(str(soup))\n",
        "    precios = dom.xpath('//li[@class=\"item product product-item\"]//div[@class=\"price-box price-final_price\"]//span[@class=\"price-container price-final_price tax weee\"]//span[@class=\"price\"]')\n",
        "    precios = [i.text for i in precios]\n",
        "    lista_precios.extend(precios)\n",
        "    #inicio\n",
        "    ini = dom.xpath('//ul[@class=\"items pages-items\"]//strong//span[2]')[1].text\n",
        "    ini = int(ini)\n",
        "  else:\n",
        "    break\n",
        "  print(ini)\n",
        "\n",
        "  if ini==234:\n",
        "    break\n",
        "  siguiente = dom.xpath('//div[@class=\"pages\"]/ul/li[@class=\"item pages-item-next\"]/a')[1].get('href')\n"
      ],
      "metadata": {
        "id": "7LV4ECiEQmX4",
        "outputId": "9d6326f6-16af-4e5c-dd75-e29ab66e3a80",
        "colab": {
          "base_uri": "https://localhost:8080/"
        }
      },
      "execution_count": 74,
      "outputs": [
        {
          "output_type": "stream",
          "name": "stdout",
          "text": [
            "1\n",
            "2\n",
            "3\n",
            "4\n",
            "5\n",
            "6\n",
            "7\n",
            "8\n",
            "9\n",
            "10\n",
            "11\n",
            "12\n",
            "13\n",
            "14\n",
            "15\n",
            "16\n",
            "17\n",
            "18\n",
            "19\n",
            "20\n",
            "21\n",
            "22\n",
            "23\n",
            "24\n",
            "25\n",
            "26\n",
            "27\n",
            "28\n",
            "29\n",
            "30\n",
            "31\n",
            "32\n",
            "33\n",
            "34\n",
            "35\n",
            "36\n",
            "37\n",
            "38\n",
            "39\n",
            "40\n",
            "41\n",
            "42\n",
            "43\n",
            "44\n",
            "45\n",
            "46\n",
            "47\n",
            "48\n",
            "49\n",
            "50\n",
            "51\n",
            "52\n",
            "53\n",
            "54\n",
            "55\n",
            "56\n",
            "57\n",
            "58\n",
            "59\n",
            "60\n",
            "61\n",
            "62\n",
            "63\n",
            "64\n",
            "65\n",
            "66\n",
            "67\n",
            "68\n",
            "69\n",
            "70\n",
            "71\n",
            "72\n",
            "73\n",
            "74\n",
            "75\n",
            "76\n",
            "77\n",
            "78\n",
            "79\n",
            "80\n",
            "81\n",
            "82\n",
            "83\n",
            "84\n",
            "85\n",
            "86\n",
            "87\n",
            "88\n",
            "89\n",
            "90\n",
            "91\n",
            "92\n",
            "93\n",
            "94\n",
            "95\n",
            "96\n",
            "97\n",
            "98\n",
            "99\n",
            "100\n",
            "101\n",
            "102\n",
            "103\n",
            "104\n",
            "105\n",
            "106\n",
            "107\n",
            "108\n",
            "109\n",
            "110\n",
            "111\n",
            "112\n",
            "113\n",
            "114\n",
            "115\n",
            "116\n",
            "117\n",
            "118\n",
            "119\n",
            "120\n",
            "121\n",
            "122\n",
            "123\n",
            "124\n",
            "125\n",
            "126\n",
            "127\n",
            "128\n",
            "129\n",
            "130\n",
            "131\n",
            "132\n",
            "133\n",
            "134\n",
            "135\n",
            "136\n",
            "137\n",
            "138\n",
            "139\n",
            "140\n",
            "141\n",
            "142\n",
            "143\n",
            "144\n",
            "145\n",
            "146\n",
            "147\n",
            "148\n",
            "149\n",
            "150\n",
            "151\n",
            "152\n",
            "153\n",
            "154\n",
            "155\n",
            "156\n",
            "157\n",
            "158\n",
            "159\n",
            "160\n",
            "161\n",
            "162\n",
            "163\n",
            "164\n",
            "165\n",
            "166\n",
            "167\n",
            "168\n",
            "169\n",
            "170\n",
            "171\n",
            "172\n",
            "173\n",
            "174\n",
            "175\n",
            "176\n",
            "177\n",
            "178\n",
            "179\n",
            "180\n",
            "181\n",
            "182\n",
            "183\n",
            "184\n",
            "185\n",
            "186\n",
            "187\n",
            "188\n",
            "189\n",
            "190\n",
            "191\n",
            "192\n",
            "193\n",
            "194\n",
            "195\n",
            "196\n",
            "197\n",
            "198\n",
            "199\n",
            "200\n",
            "201\n",
            "202\n",
            "203\n",
            "204\n",
            "205\n",
            "206\n",
            "207\n",
            "208\n",
            "209\n",
            "210\n",
            "211\n",
            "212\n",
            "213\n",
            "214\n",
            "215\n",
            "216\n",
            "217\n",
            "218\n",
            "219\n",
            "220\n",
            "221\n",
            "222\n",
            "223\n",
            "224\n",
            "225\n",
            "226\n",
            "227\n",
            "228\n",
            "229\n",
            "230\n",
            "231\n",
            "232\n",
            "233\n",
            "234\n"
          ]
        }
      ]
    },
    {
      "cell_type": "code",
      "source": [
        "print(len(lista_titulos))\n",
        "print(len(lista_url))\n",
        "print(len(lista_precios))"
      ],
      "metadata": {
        "id": "OLCREePseWna",
        "outputId": "946167c3-27e6-4f63-9a2e-0f657b871e13",
        "colab": {
          "base_uri": "https://localhost:8080/"
        }
      },
      "execution_count": 75,
      "outputs": [
        {
          "output_type": "stream",
          "name": "stdout",
          "text": [
            "2804\n",
            "2804\n",
            "2804\n"
          ]
        }
      ]
    },
    {
      "cell_type": "code",
      "source": [
        "df = pd.DataFrame({\"titulo\":lista_titulos, \"url\":lista_url, \"precios\":lista_precios})"
      ],
      "metadata": {
        "id": "7MnZAbyYFN0b"
      },
      "execution_count": 76,
      "outputs": []
    },
    {
      "cell_type": "code",
      "source": [
        "df"
      ],
      "metadata": {
        "id": "S9duZsbMfB-N",
        "colab": {
          "base_uri": "https://localhost:8080/",
          "height": 423
        },
        "outputId": "bbca8d9f-fb41-4c73-a83b-708dba74f6f0"
      },
      "execution_count": 77,
      "outputs": [
        {
          "output_type": "execute_result",
          "data": {
            "text/plain": [
              "                                               titulo  \\\n",
              "0              Disfruta Plv.Ef.Sob.5gr.Ment-Limon 1un   \n",
              "1                       Eno Plv. Ef. Naranja Sobre 5g   \n",
              "2     Sal de Fruta Eno Limon x 5 g Polvo Efervescente   \n",
              "3           Sal de Fruta Eno x 5 g Polvo Efervescente   \n",
              "4             Disfruta Sal Efervescente 5 g x 1 Sobre   \n",
              "...                                               ...   \n",
              "2799       Tivicay 50 mg x 30 Comprimidos Recubiertos   \n",
              "2800    Isentress 400 mg x 60 Comprimidos Recubiertos   \n",
              "2801             Genvoya x 30 Comprimidos Recubiertos   \n",
              "2802              Dovato Tablet 50mg/300mg 1x30 Dosis   \n",
              "2803                       Triumeq Caja 30 Comp. Rec.   \n",
              "\n",
              "                                                    url     precios  \n",
              "0     https://www.farmaciasahumada.cl/disfruta-plv-e...        $495  \n",
              "1     https://www.farmaciasahumada.cl/eno-plv-ef-nar...        $595  \n",
              "2     https://www.farmaciasahumada.cl/sal-de-fruta-e...        $595  \n",
              "3     https://www.farmaciasahumada.cl/sal-de-fruta-e...        $595  \n",
              "4     https://www.farmaciasahumada.cl/disfruta-sal-e...        $645  \n",
              "...                                                 ...         ...  \n",
              "2799  https://www.farmaciasahumada.cl/tivicay-50-mg-...    $476.295  \n",
              "2800  https://www.farmaciasahumada.cl/isentress-400-...    $545.295  \n",
              "2801  https://www.farmaciasahumada.cl/genvoya-x-30-c...    $554.895  \n",
              "2802  https://www.farmaciasahumada.cl/dovato-tablet-...    $600.295  \n",
              "2803  https://www.farmaciasahumada.cl/triumeq-caja-3...  $1.105.295  \n",
              "\n",
              "[2804 rows x 3 columns]"
            ],
            "text/html": [
              "\n",
              "  <div id=\"df-28d6e7fe-4fbb-4abd-bc1e-9b7878b88fbe\">\n",
              "    <div class=\"colab-df-container\">\n",
              "      <div>\n",
              "<style scoped>\n",
              "    .dataframe tbody tr th:only-of-type {\n",
              "        vertical-align: middle;\n",
              "    }\n",
              "\n",
              "    .dataframe tbody tr th {\n",
              "        vertical-align: top;\n",
              "    }\n",
              "\n",
              "    .dataframe thead th {\n",
              "        text-align: right;\n",
              "    }\n",
              "</style>\n",
              "<table border=\"1\" class=\"dataframe\">\n",
              "  <thead>\n",
              "    <tr style=\"text-align: right;\">\n",
              "      <th></th>\n",
              "      <th>titulo</th>\n",
              "      <th>url</th>\n",
              "      <th>precios</th>\n",
              "    </tr>\n",
              "  </thead>\n",
              "  <tbody>\n",
              "    <tr>\n",
              "      <th>0</th>\n",
              "      <td>Disfruta Plv.Ef.Sob.5gr.Ment-Limon 1un</td>\n",
              "      <td>https://www.farmaciasahumada.cl/disfruta-plv-e...</td>\n",
              "      <td>$495</td>\n",
              "    </tr>\n",
              "    <tr>\n",
              "      <th>1</th>\n",
              "      <td>Eno Plv. Ef. Naranja Sobre 5g</td>\n",
              "      <td>https://www.farmaciasahumada.cl/eno-plv-ef-nar...</td>\n",
              "      <td>$595</td>\n",
              "    </tr>\n",
              "    <tr>\n",
              "      <th>2</th>\n",
              "      <td>Sal de Fruta Eno Limon x 5 g Polvo Efervescente</td>\n",
              "      <td>https://www.farmaciasahumada.cl/sal-de-fruta-e...</td>\n",
              "      <td>$595</td>\n",
              "    </tr>\n",
              "    <tr>\n",
              "      <th>3</th>\n",
              "      <td>Sal de Fruta Eno x 5 g Polvo Efervescente</td>\n",
              "      <td>https://www.farmaciasahumada.cl/sal-de-fruta-e...</td>\n",
              "      <td>$595</td>\n",
              "    </tr>\n",
              "    <tr>\n",
              "      <th>4</th>\n",
              "      <td>Disfruta Sal Efervescente 5 g x 1 Sobre</td>\n",
              "      <td>https://www.farmaciasahumada.cl/disfruta-sal-e...</td>\n",
              "      <td>$645</td>\n",
              "    </tr>\n",
              "    <tr>\n",
              "      <th>...</th>\n",
              "      <td>...</td>\n",
              "      <td>...</td>\n",
              "      <td>...</td>\n",
              "    </tr>\n",
              "    <tr>\n",
              "      <th>2799</th>\n",
              "      <td>Tivicay 50 mg x 30 Comprimidos Recubiertos</td>\n",
              "      <td>https://www.farmaciasahumada.cl/tivicay-50-mg-...</td>\n",
              "      <td>$476.295</td>\n",
              "    </tr>\n",
              "    <tr>\n",
              "      <th>2800</th>\n",
              "      <td>Isentress 400 mg x 60 Comprimidos Recubiertos</td>\n",
              "      <td>https://www.farmaciasahumada.cl/isentress-400-...</td>\n",
              "      <td>$545.295</td>\n",
              "    </tr>\n",
              "    <tr>\n",
              "      <th>2801</th>\n",
              "      <td>Genvoya x 30 Comprimidos Recubiertos</td>\n",
              "      <td>https://www.farmaciasahumada.cl/genvoya-x-30-c...</td>\n",
              "      <td>$554.895</td>\n",
              "    </tr>\n",
              "    <tr>\n",
              "      <th>2802</th>\n",
              "      <td>Dovato Tablet 50mg/300mg 1x30 Dosis</td>\n",
              "      <td>https://www.farmaciasahumada.cl/dovato-tablet-...</td>\n",
              "      <td>$600.295</td>\n",
              "    </tr>\n",
              "    <tr>\n",
              "      <th>2803</th>\n",
              "      <td>Triumeq Caja 30 Comp. Rec.</td>\n",
              "      <td>https://www.farmaciasahumada.cl/triumeq-caja-3...</td>\n",
              "      <td>$1.105.295</td>\n",
              "    </tr>\n",
              "  </tbody>\n",
              "</table>\n",
              "<p>2804 rows × 3 columns</p>\n",
              "</div>\n",
              "      <button class=\"colab-df-convert\" onclick=\"convertToInteractive('df-28d6e7fe-4fbb-4abd-bc1e-9b7878b88fbe')\"\n",
              "              title=\"Convert this dataframe to an interactive table.\"\n",
              "              style=\"display:none;\">\n",
              "        \n",
              "  <svg xmlns=\"http://www.w3.org/2000/svg\" height=\"24px\"viewBox=\"0 0 24 24\"\n",
              "       width=\"24px\">\n",
              "    <path d=\"M0 0h24v24H0V0z\" fill=\"none\"/>\n",
              "    <path d=\"M18.56 5.44l.94 2.06.94-2.06 2.06-.94-2.06-.94-.94-2.06-.94 2.06-2.06.94zm-11 1L8.5 8.5l.94-2.06 2.06-.94-2.06-.94L8.5 2.5l-.94 2.06-2.06.94zm10 10l.94 2.06.94-2.06 2.06-.94-2.06-.94-.94-2.06-.94 2.06-2.06.94z\"/><path d=\"M17.41 7.96l-1.37-1.37c-.4-.4-.92-.59-1.43-.59-.52 0-1.04.2-1.43.59L10.3 9.45l-7.72 7.72c-.78.78-.78 2.05 0 2.83L4 21.41c.39.39.9.59 1.41.59.51 0 1.02-.2 1.41-.59l7.78-7.78 2.81-2.81c.8-.78.8-2.07 0-2.86zM5.41 20L4 18.59l7.72-7.72 1.47 1.35L5.41 20z\"/>\n",
              "  </svg>\n",
              "      </button>\n",
              "      \n",
              "  <style>\n",
              "    .colab-df-container {\n",
              "      display:flex;\n",
              "      flex-wrap:wrap;\n",
              "      gap: 12px;\n",
              "    }\n",
              "\n",
              "    .colab-df-convert {\n",
              "      background-color: #E8F0FE;\n",
              "      border: none;\n",
              "      border-radius: 50%;\n",
              "      cursor: pointer;\n",
              "      display: none;\n",
              "      fill: #1967D2;\n",
              "      height: 32px;\n",
              "      padding: 0 0 0 0;\n",
              "      width: 32px;\n",
              "    }\n",
              "\n",
              "    .colab-df-convert:hover {\n",
              "      background-color: #E2EBFA;\n",
              "      box-shadow: 0px 1px 2px rgba(60, 64, 67, 0.3), 0px 1px 3px 1px rgba(60, 64, 67, 0.15);\n",
              "      fill: #174EA6;\n",
              "    }\n",
              "\n",
              "    [theme=dark] .colab-df-convert {\n",
              "      background-color: #3B4455;\n",
              "      fill: #D2E3FC;\n",
              "    }\n",
              "\n",
              "    [theme=dark] .colab-df-convert:hover {\n",
              "      background-color: #434B5C;\n",
              "      box-shadow: 0px 1px 3px 1px rgba(0, 0, 0, 0.15);\n",
              "      filter: drop-shadow(0px 1px 2px rgba(0, 0, 0, 0.3));\n",
              "      fill: #FFFFFF;\n",
              "    }\n",
              "  </style>\n",
              "\n",
              "      <script>\n",
              "        const buttonEl =\n",
              "          document.querySelector('#df-28d6e7fe-4fbb-4abd-bc1e-9b7878b88fbe button.colab-df-convert');\n",
              "        buttonEl.style.display =\n",
              "          google.colab.kernel.accessAllowed ? 'block' : 'none';\n",
              "\n",
              "        async function convertToInteractive(key) {\n",
              "          const element = document.querySelector('#df-28d6e7fe-4fbb-4abd-bc1e-9b7878b88fbe');\n",
              "          const dataTable =\n",
              "            await google.colab.kernel.invokeFunction('convertToInteractive',\n",
              "                                                     [key], {});\n",
              "          if (!dataTable) return;\n",
              "\n",
              "          const docLinkHtml = 'Like what you see? Visit the ' +\n",
              "            '<a target=\"_blank\" href=https://colab.research.google.com/notebooks/data_table.ipynb>data table notebook</a>'\n",
              "            + ' to learn more about interactive tables.';\n",
              "          element.innerHTML = '';\n",
              "          dataTable['output_type'] = 'display_data';\n",
              "          await google.colab.output.renderOutput(dataTable, element);\n",
              "          const docLink = document.createElement('div');\n",
              "          docLink.innerHTML = docLinkHtml;\n",
              "          element.appendChild(docLink);\n",
              "        }\n",
              "      </script>\n",
              "    </div>\n",
              "  </div>\n",
              "  "
            ]
          },
          "metadata": {},
          "execution_count": 77
        }
      ]
    },
    {
      "cell_type": "code",
      "source": [
        "path = \"gdrive/MyDrive/Emprendimiento/webscraping_cadenas/Farmacias_ahumada/prueba1.csv\"\n",
        "df.to_csv(path, index=False)"
      ],
      "metadata": {
        "id": "ilfysnWn13H4"
      },
      "execution_count": 78,
      "outputs": []
    },
    {
      "cell_type": "code",
      "source": [
        "path = 'gdrive/MyDrive/Emprendimiento/webscraping_cadenas/Farmacias_ahumada/prueba1.xlsx'\n",
        "df.to_excel(path, index=False)"
      ],
      "metadata": {
        "id": "zJLCSJy036D-"
      },
      "execution_count": 79,
      "outputs": []
    }
  ]
}